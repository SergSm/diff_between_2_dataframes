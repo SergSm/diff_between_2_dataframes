{
 "cells": [
  {
   "cell_type": "code",
   "execution_count": 189,
   "metadata": {},
   "outputs": [],
   "source": [
    "import numpy as np\n",
    "\n",
    "import pandas as pd\n",
    "from IPython.display import display, HTML\n",
    "pd.set_option('display.max_rows', 500)\n",
    "pd.set_option('display.max_columns', 50) #  columns count\n",
    "pd.set_option('display.max_colwidth', -1)  # columns width \n",
    "\n",
    "# Use 3 decimal places in output display\n",
    "pd.set_option(\"display.precision\", 3)\n",
    "\n",
    "# Don't wrap repr(DataFrame) across additional lines\n",
    "pd.set_option(\"display.expand_frame_repr\", False)\n",
    "\n",
    "# to display float format\n",
    "pd.options.display.float_format = '{:.2f}'.format"
   ]
  },
  {
   "cell_type": "code",
   "execution_count": 190,
   "metadata": {},
   "outputs": [],
   "source": [
    "# file pathes to input data\n",
    "fp_ut = 'УТ.xlsx'     \n",
    "fp_buh =  'Бух.xlsx'"
   ]
  },
  {
   "cell_type": "code",
   "execution_count": 191,
   "metadata": {},
   "outputs": [],
   "source": [
    "# Describe field names\n",
    "# F means Field\n",
    "F_ITEM = 'Номенклатура'\n",
    "F_CODE = 'Код'\n",
    "F_SUM = 'Сумма'"
   ]
  },
  {
   "cell_type": "code",
   "execution_count": 192,
   "metadata": {},
   "outputs": [],
   "source": [
    "DTYPES = {F_ITEM: 'str',F_CODE:'str'}"
   ]
  },
  {
   "cell_type": "code",
   "execution_count": 193,
   "metadata": {},
   "outputs": [],
   "source": [
    "# clean up data for the given Series\n",
    "def clean_up_for_numeric(given_df, df_name, col_name):\n",
    "    '''col_name - column name for cleaning '''\n",
    "    given_df[col_name].replace(u'\\xa0',u'', regex=True, inplace=True) # clean up the no-break spaces\n",
    "    given_df[col_name].replace(u',',u'.', regex=True, inplace=True)  # repalce commas with the dots\n",
    "    print(\"Cleaning data in \",col_name,\" column successfull for\", df_name)\n",
    "    return True\n",
    "\n",
    "# converts the given series to a float type\n",
    "def convert_to_float(given_df, df_name, col_name): # 'df_name is the name of the datframe\n",
    "    given_df[col_name] = given_df[col_name].astype(float)\n",
    "    print(\"Converting \", col_name, \" column in float successful for \", df_name)\n",
    "    return True"
   ]
  },
  {
   "cell_type": "code",
   "execution_count": 194,
   "metadata": {},
   "outputs": [],
   "source": [
    "df_ut = pd.read_excel(fp_ut, sep=';', dtype=DTYPES)\n",
    "df_buh = pd.read_excel(fp_buh,sep=';', dtype=DTYPES) "
   ]
  },
  {
   "cell_type": "code",
   "execution_count": 195,
   "metadata": {},
   "outputs": [],
   "source": [
    "df_ut['ЭтоБухгалтерия'] = False # to distinguish ut.csv rows from buh.csv\n",
    "df_buh['ЭтоБухгалтерия'] = True # to distinguish ut.csv rows from buh.csv"
   ]
  },
  {
   "cell_type": "code",
   "execution_count": 196,
   "metadata": {},
   "outputs": [
    {
     "name": "stdout",
     "output_type": "stream",
     "text": [
      "Cleaning data in  Сумма  column successfull for df_buh\n",
      "Converting  Сумма  column in float successful for  df_buh\n",
      "Cleaning data in  Сумма  column successfull for df_ut\n",
      "Converting  Сумма  column in float successful for  df_ut\n"
     ]
    }
   ],
   "source": [
    "# Describe fields types\n",
    "float_type_rows = [F_SUM] # the specifeid field will be converted to float\n",
    "\n",
    "# Clean up the data in buh & ut\n",
    "#    the  column may have a \\xa0 symbol (no-break space)\n",
    "# Note:To figure out the value which can not be converted use: df.apply(pd.to_numeric)\n",
    "\n",
    "# Remove NB spaces and replace commas with dots for columns Quantity and Sum\n",
    "for float_col_name in float_type_rows:\n",
    "        clean_up_for_numeric(df_buh, 'df_buh', float_col_name)\n",
    "        convert_to_float(df_buh, 'df_buh', float_col_name)\n",
    "        \n",
    "        clean_up_for_numeric(df_ut, 'df_ut', float_col_name)\n",
    "        convert_to_float(df_ut, 'df_ut', float_col_name)"
   ]
  },
  {
   "cell_type": "code",
   "execution_count": 197,
   "metadata": {},
   "outputs": [
    {
     "name": "stdout",
     "output_type": "stream",
     "text": [
      "Номенклатура      object \n",
      "Код               object \n",
      "Сумма             float64\n",
      "ЭтоБухгалтерия    bool   \n",
      "dtype: object\n",
      "Номенклатура      object \n",
      "Код               object \n",
      "Сумма             float64\n",
      "ЭтоБухгалтерия    bool   \n",
      "dtype: object\n"
     ]
    }
   ],
   "source": [
    "# Check whether both dataframes have the same types of fields\n",
    "print(df_buh.dtypes)\n",
    "print(df_ut.dtypes)"
   ]
  },
  {
   "cell_type": "code",
   "execution_count": 200,
   "metadata": {},
   "outputs": [],
   "source": [
    "# SAVE CONCATENATED DATAFRAMES TO THE FILE\n",
    "df.to_excel('concatenated_files.xlsx', index_label=False, index=False)"
   ]
  },
  {
   "cell_type": "code",
   "execution_count": 201,
   "metadata": {},
   "outputs": [
    {
     "data": {
      "text/html": [
       "<div>\n",
       "<style scoped>\n",
       "    .dataframe tbody tr th:only-of-type {\n",
       "        vertical-align: middle;\n",
       "    }\n",
       "\n",
       "    .dataframe tbody tr th {\n",
       "        vertical-align: top;\n",
       "    }\n",
       "\n",
       "    .dataframe thead th {\n",
       "        text-align: right;\n",
       "    }\n",
       "</style>\n",
       "<table border=\"1\" class=\"dataframe\">\n",
       "  <thead>\n",
       "    <tr style=\"text-align: right;\">\n",
       "      <th></th>\n",
       "      <th>Номенклатура</th>\n",
       "      <th>Код</th>\n",
       "      <th>Сумма</th>\n",
       "      <th>ЭтоБухгалтерия</th>\n",
       "    </tr>\n",
       "  </thead>\n",
       "  <tbody>\n",
       "    <tr>\n",
       "      <th>603</th>\n",
       "      <td>Уплотнение вод. насоса  ЯМЗ-238НД3\\5 нов.обр KACO 19х40 (ОАО Автодизель-ЯМЗ)</td>\n",
       "      <td>001616</td>\n",
       "      <td>1763.73</td>\n",
       "      <td>True</td>\n",
       "    </tr>\n",
       "    <tr>\n",
       "      <th>718</th>\n",
       "      <td>Звёздочка промежуточного (отбойного) битера \"Енисей\" z=18\\18, шаг19.05</td>\n",
       "      <td>002293</td>\n",
       "      <td>2388.20</td>\n",
       "      <td>True</td>\n",
       "    </tr>\n",
       "    <tr>\n",
       "      <th>167</th>\n",
       "      <td>Уплотнение торцевое вод. насоса  ЯМЗ-238НД3\\5 нов.обр (ОАО Автодизель-ЯМЗ)</td>\n",
       "      <td>969</td>\n",
       "      <td>15310.07</td>\n",
       "      <td>True</td>\n",
       "    </tr>\n",
       "    <tr>\n",
       "      <th>603</th>\n",
       "      <td>Уплотнение вод. насоса  ЯМЗ-238НД3\\5 нов.обр KACO 19х40 (ОАО Автодизель-ЯМЗ)</td>\n",
       "      <td>001616</td>\n",
       "      <td>nan</td>\n",
       "      <td>False</td>\n",
       "    </tr>\n",
       "    <tr>\n",
       "      <th>718</th>\n",
       "      <td>Звёздочка промежуточного (отбойного) битера \"Енисей\" z=18\\18, шаг19.05</td>\n",
       "      <td>002293</td>\n",
       "      <td>nan</td>\n",
       "      <td>False</td>\n",
       "    </tr>\n",
       "    <tr>\n",
       "      <th>167</th>\n",
       "      <td>Уплотнение торцевое вод. насоса  ЯМЗ-238НД3\\5 нов.обр (ОАО Автодизель-ЯМЗ)</td>\n",
       "      <td>969</td>\n",
       "      <td>nan</td>\n",
       "      <td>False</td>\n",
       "    </tr>\n",
       "    <tr>\n",
       "      <th>1615</th>\n",
       "      <td>nan</td>\n",
       "      <td>nan</td>\n",
       "      <td>nan</td>\n",
       "      <td>False</td>\n",
       "    </tr>\n",
       "    <tr>\n",
       "      <th>1616</th>\n",
       "      <td>Итог</td>\n",
       "      <td>nan</td>\n",
       "      <td>5466206.49</td>\n",
       "      <td>False</td>\n",
       "    </tr>\n",
       "  </tbody>\n",
       "</table>\n",
       "</div>"
      ],
      "text/plain": [
       "                                                                      Номенклатура     Код      Сумма  ЭтоБухгалтерия\n",
       "603   Уплотнение вод. насоса  ЯМЗ-238НД3\\5 нов.обр KACO 19х40 (ОАО Автодизель-ЯМЗ)  001616 1763.73     True          \n",
       "718   Звёздочка промежуточного (отбойного) битера \"Енисей\" z=18\\18, шаг19.05        002293 2388.20     True          \n",
       "167   Уплотнение торцевое вод. насоса  ЯМЗ-238НД3\\5 нов.обр (ОАО Автодизель-ЯМЗ)    969    15310.07    True          \n",
       "603   Уплотнение вод. насоса  ЯМЗ-238НД3\\5 нов.обр KACO 19х40 (ОАО Автодизель-ЯМЗ)  001616 nan         False         \n",
       "718   Звёздочка промежуточного (отбойного) битера \"Енисей\" z=18\\18, шаг19.05        002293 nan         False         \n",
       "167   Уплотнение торцевое вод. насоса  ЯМЗ-238НД3\\5 нов.обр (ОАО Автодизель-ЯМЗ)    969    nan         False         \n",
       "1615  nan                                                                           nan    nan         False         \n",
       "1616  Итог                                                                          nan    5466206.49  False         "
      ]
     },
     "execution_count": 201,
     "metadata": {},
     "output_type": "execute_result"
    }
   ],
   "source": [
    "# DROP DUPLICATES TO DETECT DIFFERENCE\n",
    "pd.concat([df_buh,df_ut]).drop_duplicates(subset=[F_CODE, F_SUM],keep=False)"
   ]
  }
 ],
 "metadata": {
  "kernelspec": {
   "display_name": "Python 3",
   "language": "python",
   "name": "python3"
  },
  "language_info": {
   "codemirror_mode": {
    "name": "ipython",
    "version": 3
   },
   "file_extension": ".py",
   "mimetype": "text/x-python",
   "name": "python",
   "nbconvert_exporter": "python",
   "pygments_lexer": "ipython3",
   "version": "3.7.1"
  }
 },
 "nbformat": 4,
 "nbformat_minor": 2
}
